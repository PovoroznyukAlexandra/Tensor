{
 "cells": [
  {
   "cell_type": "code",
   "execution_count": 249,
   "id": "776fce65",
   "metadata": {},
   "outputs": [],
   "source": [
    "import numpy as np\n",
    "import time\n",
    "from scipy import linalg"
   ]
  },
  {
   "cell_type": "markdown",
   "id": "c7ff0437",
   "metadata": {},
   "source": [
    "# Maxvol"
   ]
  },
  {
   "cell_type": "code",
   "execution_count": 250,
   "id": "ecfaeb90",
   "metadata": {},
   "outputs": [],
   "source": [
    "def Maxvol(A, eps = 1.06, iter=10):\n",
    "    n, r = A.shape\n",
    "    for _ in range(iter):\n",
    "        i = A.shape[1]\n",
    "        C = A[:i, :]\n",
    "        B = A @ np.linalg.inv(C)\n",
    "        index = np.unravel_index(np.argmax(B), B.shape)\n",
    "        if np.round(np.abs(B[index]), 10) == 1:\n",
    "            return C\n",
    "        if np.round(np.abs(B[index]), 10) > 1:\n",
    "            A[index, :] = A[[index[1], index[0]], :]\n",
    "    return C"
   ]
  },
  {
   "cell_type": "code",
   "execution_count": 251,
   "id": "c110f2af",
   "metadata": {},
   "outputs": [
    {
     "data": {
      "text/plain": [
       "array([[ 1.        ,  0.54030231, -0.41614684],\n",
       "       [-0.41614684,  0.54030231,  1.        ],\n",
       "       [-0.65364362, -0.9899925 , -0.41614684]])"
      ]
     },
     "execution_count": 251,
     "metadata": {},
     "output_type": "execute_result"
    }
   ],
   "source": [
    "r = 3\n",
    "n = 10\n",
    "A = np.zeros([n, r])\n",
    "for i in range(n):\n",
    "    for j in range(r):\n",
    "        A[i,j]= np.cos(2*i - j)\n",
    "Maxvol(A)"
   ]
  },
  {
   "cell_type": "markdown",
   "id": "775e1729",
   "metadata": {},
   "source": [
    "# Cross"
   ]
  },
  {
   "cell_type": "code",
   "execution_count": 252,
   "id": "5e2a90e9",
   "metadata": {},
   "outputs": [],
   "source": [
    "def Cross(A, eps = 0.1):\n",
    "    r = 0\n",
    "    m, n = A.shape\n",
    "    I = np.arange(m)\n",
    "    J = np.arange(n)\n",
    "    i,j = np.unravel_index(np.argmax(np.abs(A), axis=None), A.shape)\n",
    "    V = np.copy(A[:, j] / A[i, j]).reshape(m, 1)\n",
    "    U = np.copy(A[i, :]).reshape(1, n)\n",
    "    Error = A - V @ U\n",
    "    I[i] = -1\n",
    "    J[j] = -1\n",
    "    i = 0\n",
    "    j = 0\n",
    "    while True:\n",
    "        r += 1\n",
    "        for k in range(n):\n",
    "            if (abs(Error[k,j]) > abs(Error[i,j])) and (I[k] != -1):\n",
    "                i = k\n",
    "            if (abs(Error[i,k]) > abs(Error[i,j])) and (J[k] != -1):\n",
    "                j = k\n",
    "        if ((abs(Error[i][j]) *((m-r)*(n-r))**0.5) <= eps*(np.linalg.norm(V @ U, ord='fro'))):\n",
    "            r -= 1\n",
    "            return V, U\n",
    "        U = np.concatenate((U, Error[i, :].reshape(1, n)), axis = 0)\n",
    "        V = np.concatenate((V, (Error[:, j] / Error[i,j]).reshape(m, 1)), axis = 1)\n",
    "        I[i] = -1\n",
    "        J[j] = -1\n",
    "        Error = A - V @ U"
   ]
  },
  {
   "cell_type": "code",
   "execution_count": 253,
   "id": "4863f18c",
   "metadata": {},
   "outputs": [],
   "source": [
    "n = 16\n",
    "m = 64\n",
    "A = np.zeros([m, n])\n",
    "for i in range(m):\n",
    "    for j in range(n):\n",
    "        A[i,j] = i*2 - j"
   ]
  },
  {
   "cell_type": "code",
   "execution_count": 254,
   "id": "718d24bf",
   "metadata": {},
   "outputs": [
    {
     "data": {
      "text/plain": [
       "1.3916028932457436e-13"
      ]
     },
     "execution_count": 254,
     "metadata": {},
     "output_type": "execute_result"
    }
   ],
   "source": [
    "U, V = Cross(A, 0.01)\n",
    "np.linalg.norm((A - U @ V), ord = 'fro')"
   ]
  },
  {
   "cell_type": "markdown",
   "id": "eefc142c",
   "metadata": {},
   "source": [
    "# Randomized SVD"
   ]
  },
  {
   "cell_type": "code",
   "execution_count": 255,
   "id": "d0585080",
   "metadata": {},
   "outputs": [],
   "source": [
    "def Randomized_SVD(A, r, p = 8):\n",
    "    M, N = A.shape\n",
    "    B = A @ (np.random.normal(size = (N, r + p)))\n",
    "    Q, R = np.linalg.qr(B)\n",
    "    U, E, V = np.linalg.svd(Q.T @ A);\n",
    "    return (Q @ U, E, V)\n",
    "\n",
    "def A(i, j):\n",
    "    return i * j\n",
    "\n",
    "M = 1024\n",
    "N = 2048\n",
    "r = 4\n",
    "U, E, V = Randomized_SVD(np.fromfunction(A, (M, N)), r)"
   ]
  },
  {
   "cell_type": "code",
   "execution_count": 256,
   "id": "adcb0a7f",
   "metadata": {},
   "outputs": [
    {
     "data": {
      "text/plain": [
       "array([[-5.35758610e-17,  2.65210406e-02,  3.33518372e-01, ...,\n",
       "        -1.06062371e-01, -7.22966898e-03,  1.49261245e-02],\n",
       "       [-5.28967401e-05, -1.46422625e-04,  7.83868676e-03, ...,\n",
       "        -1.08497403e-03,  2.19474951e-04,  9.66930216e-03],\n",
       "       [-1.05793480e-04,  1.18725451e-03, -1.17975440e-02, ...,\n",
       "         3.83698576e-03, -1.11026098e-03, -1.87729177e-02],\n",
       "       ...,\n",
       "       [-5.40075717e-02, -1.70839429e-02,  7.08684542e-06, ...,\n",
       "         2.20890088e-02,  5.10796364e-02,  1.99716950e-02],\n",
       "       [-5.40604684e-02, -2.89313035e-02, -2.68058115e-03, ...,\n",
       "        -3.57440562e-04, -2.92910666e-02,  1.12962749e-01],\n",
       "       [-5.41133652e-02,  6.41564003e-02, -1.32842188e-02, ...,\n",
       "         5.25850050e-03,  3.11398690e-02, -2.57123341e-02]])"
      ]
     },
     "execution_count": 256,
     "metadata": {},
     "output_type": "execute_result"
    }
   ],
   "source": [
    "U"
   ]
  },
  {
   "cell_type": "code",
   "execution_count": 257,
   "id": "0894dba1",
   "metadata": {},
   "outputs": [
    {
     "data": {
      "text/plain": [
       "array([1.01122155e+09, 2.33042743e-08, 2.03200538e-08, 1.89310678e-08,\n",
       "       1.75277070e-08, 1.61425641e-08, 1.39083732e-08, 1.25732269e-08,\n",
       "       1.15490620e-08, 1.12332866e-08, 1.06585150e-08, 8.97748799e-09])"
      ]
     },
     "execution_count": 257,
     "metadata": {},
     "output_type": "execute_result"
    }
   ],
   "source": [
    "E"
   ]
  },
  {
   "cell_type": "code",
   "execution_count": 258,
   "id": "e8e49d8a",
   "metadata": {},
   "outputs": [
    {
     "data": {
      "text/plain": [
       "array([[ 0.00000000e+00, -1.86949701e-05, -3.73899402e-05, ...,\n",
       "        -3.82312138e-02, -3.82499088e-02, -3.82686038e-02],\n",
       "       [-1.30475072e-16,  7.46522920e-06,  1.49304584e-05, ...,\n",
       "        -3.83187267e-02,  3.68045250e-02, -3.58633038e-02],\n",
       "       [-2.15446221e-15,  9.34585899e-06,  1.86917180e-05, ...,\n",
       "        -4.02383762e-02,  6.25364513e-02, -2.42422418e-02],\n",
       "       ...,\n",
       "       [-3.82302517e-02, -8.96579681e-04,  3.97878316e-02, ...,\n",
       "         9.91535829e-01,  4.02525297e-03, -7.41109627e-04],\n",
       "       [-3.82504270e-02,  1.03816988e-01, -4.20154185e-02, ...,\n",
       "         4.02644263e-03,  9.72114020e-01,  1.25007438e-03],\n",
       "       [-3.82566852e-02,  4.23354667e-02,  3.47161503e-02, ...,\n",
       "        -7.45487195e-04,  1.25692764e-03,  9.65896644e-01]])"
      ]
     },
     "execution_count": 258,
     "metadata": {},
     "output_type": "execute_result"
    }
   ],
   "source": [
    "V"
   ]
  },
  {
   "cell_type": "markdown",
   "id": "5f9ed4ec",
   "metadata": {},
   "source": [
    "# HO_SVD"
   ]
  },
  {
   "cell_type": "markdown",
   "id": "75659838",
   "metadata": {},
   "source": [
    "### 3-мерный HO_SVD"
   ]
  },
  {
   "cell_type": "code",
   "execution_count": 259,
   "id": "ecae2291",
   "metadata": {},
   "outputs": [],
   "source": [
    "def HO_SVD_3d(A, r1, r2, r3):\n",
    "    n1,n2,n3 = A.shape\n",
    "    A1 = A.reshape(n1, n2*n3)\n",
    "    U, s, V = np.linalg.svd(A1, full_matrices=False)\n",
    "    V1 = U[:,:r1] \n",
    "    V1 = V1.T\n",
    "    A1 = np.diag(s[:r1]) @ V[:r1,:] # r1 x n2*n3\n",
    "    A1 = A1.reshape(r1, n2, n3)\n",
    "    A1 = A1.transpose([0,2,1])\n",
    "    A1 = A1.reshape(r1 * n3, n2)# r1 * n3 x n2\n",
    "    U, s, V = np.linalg.svd(A1, full_matrices=False)\n",
    "    V2 =  V[:r2,:] # r2 x n2\n",
    "    U2 = U[:,:r2] @ np.diag(s[:r2]) # r1*n3 x r2\n",
    "    U2 = U2.reshape(r1, n3, r2) # r1 x n3 x r2\n",
    "    U2 = U2.transpose([0,2,1]) # r1 x r2 x n3\n",
    "    U2 = U2.reshape(r1 * r2, n3) # r1*r2 x n3\n",
    "    U, s, V = np.linalg.svd(U2, full_matrices=False)\n",
    "    V3 = V[:r3,:] # U3(r3,j)\n",
    "    G = U[:,:r3] @ np.diag(s[:r3])# r1 * r2 x r3\n",
    "    G = G.reshape(r1, r2, r3) # main core\n",
    "    return G, V1, V2, V3\n",
    "\n",
    "def Check(A, G, V1, V2, V3): \n",
    "    err = 0\n",
    "    r1, r2, r3 = G.shape\n",
    "    A1 = G.reshape(r1 * r2, r3).dot(V3) # r1*r2 x n3\n",
    "    A1 = A1.reshape(r1, r2, V3.shape[1]).transpose([0,2,1]) # r1 x r2 x n3\n",
    "    A1 = A1.reshape(r1*V3.shape[1], r2).dot(V2) # r1*n3 x n2\n",
    "    A1 = A1.reshape(r1, V3.shape[1], V2.shape[1]).transpose([1,2,0]) # n3 x n2 x r1\n",
    "    A1 = A1.reshape(V3.shape[1], V2.shape[1], r1).dot(V1) # n3 x n2 x n1\n",
    "    A1 = A1.transpose([2,1,0]) # n1 x n2 x n3\n",
    "    return np.linalg.norm(A - A1) #error norm"
   ]
  },
  {
   "cell_type": "code",
   "execution_count": 261,
   "id": "2a815d78",
   "metadata": {
    "scrolled": true
   },
   "outputs": [
    {
     "name": "stdout",
     "output_type": "stream",
     "text": [
      "Error = 1.9423889953547366e-12\n",
      "CPU times: user 350 ms, sys: 9.52 ms, total: 359 ms\n",
      "Wall time: 313 ms\n"
     ]
    }
   ],
   "source": [
    "%%time\n",
    "\n",
    "N = 64\n",
    "A = np.zeros([N,N,N])\n",
    "for i in range(N):\n",
    "    for j in range(N):\n",
    "        for k in range(N):\n",
    "            A[i,j,k] = np.sin(i+2.*j+3.*k)\n",
    "G, V1, V2, V3 = HO_SVD_3d(A,4,4,4)\n",
    "print(\"Error =\", Check(A, G, V1,V2,V3))"
   ]
  },
  {
   "cell_type": "markdown",
   "id": "69f4adb6",
   "metadata": {},
   "source": [
    "### st_HO_SVD"
   ]
  },
  {
   "cell_type": "code",
   "execution_count": 262,
   "id": "2d6fee0e",
   "metadata": {},
   "outputs": [],
   "source": [
    "def st_HO_SVD(A):\n",
    "    N = A.shape[0]\n",
    "    U_1, E, V = np.linalg.svd(np.reshape(A, (N, N * N)), full_matrices=False)\n",
    "    D = np.diag(E) @ V\n",
    "    D = np.transpose(D.reshape([N, N, N]), [1, 0, 2]).reshape([N, N*N])\n",
    "    U_2, E, V = np.linalg.svd(D, full_matrices=False)\n",
    "    D = np.diag(E) @ V\n",
    "    D = np.transpose(D.reshape([N, N, N]), [2, 1, 0]).reshape([N, N*N])\n",
    "    U_3, E, V = np.linalg.svd(D, full_matrices=False)\n",
    "    D = (np.diag(E) @ V).reshape([N, N, N])\n",
    "    return D, U_1, U_2, U_3"
   ]
  },
  {
   "cell_type": "code",
   "execution_count": 263,
   "id": "4adbc915",
   "metadata": {
    "scrolled": true
   },
   "outputs": [
    {
     "data": {
      "text/plain": [
       "(array([[[-1.42253953e+01, -8.28025332e-03],\n",
       "         [-4.61793060e-03,  1.11585148e+00]],\n",
       " \n",
       "        [[-1.60125603e-02,  2.38589095e-01],\n",
       "         [ 5.43770692e-01, -2.00114739e-01]]]),\n",
       " array([[-0.37616823,  0.92655138],\n",
       "        [-0.92655138, -0.37616823]]),\n",
       " array([[ 0.56672424, -0.82390754],\n",
       "        [ 0.82390754,  0.56672424]]),\n",
       " array([[ 0.64142303, -0.7671874 ],\n",
       "        [ 0.7671874 ,  0.64142303]]))"
      ]
     },
     "execution_count": 263,
     "metadata": {},
     "output_type": "execute_result"
    }
   ],
   "source": [
    "A = np.array([[[1, 2], [3, 4]], [[5, 6], [7, 8]]])\n",
    "st_HO_SVD(A)"
   ]
  },
  {
   "cell_type": "markdown",
   "id": "4a3fc123",
   "metadata": {},
   "source": [
    "# TT_SVD"
   ]
  },
  {
   "cell_type": "code",
   "execution_count": 264,
   "id": "d3b088b9",
   "metadata": {},
   "outputs": [],
   "source": [
    "def TT_SVD(A, ranks):\n",
    "    g = []\n",
    "    n = list(A.shape)\n",
    "    dim = len(n)\n",
    "\n",
    "    A1 = A.reshape(n[0], np.prod(n[1:]))\n",
    "    U, s, V = np.linalg.svd(A1, full_matrices=False)\n",
    "    G1 = U[:,:ranks[0]]\n",
    "    g.append(G1)\n",
    "    B = np.diag(s[:ranks[0]]) @ V[:ranks[0], :]\n",
    "    for k in range (1, dim - 1):\n",
    "        B = B.reshape(ranks[k - 1] * n[k], np.prod(n[k+1:]))\n",
    "        U, s, V = np.linalg.svd(B, full_matrices=False)\n",
    "        Gk = U[:,:ranks[k]]\n",
    "        Gk = Gk.reshape(ranks[k - 1], n[k], ranks[k])\n",
    "        g.append(Gk)\n",
    "        B = np.diag(s[:ranks[k]]) @ V[:ranks[k],:]\n",
    "    g.append(B)\n",
    "    return g\n",
    "\n",
    "def Restore_tensor(g):\n",
    "    n = [g[i].shape[1] for i in range(len(g))]\n",
    "    n[0] = g[0].shape[0]\n",
    "    dim = len(n)\n",
    "    \n",
    "    res = g[-1]\n",
    "    for i in range(dim - 2, 0, -1):\n",
    "        res = (g[i] @ res).reshape(g[i].shape[0], np.prod(n[i:dim]))    \n",
    "    res = g[0] @ res\n",
    "    res = res.reshape(n)\n",
    "    return res"
   ]
  },
  {
   "cell_type": "code",
   "execution_count": 265,
   "id": "6e92f112",
   "metadata": {},
   "outputs": [
    {
     "name": "stdout",
     "output_type": "stream",
     "text": [
      "error =  8.901142497836701e-13\n",
      "CPU times: user 67.4 ms, sys: 5.44 ms, total: 72.8 ms\n",
      "Wall time: 62 ms\n"
     ]
    }
   ],
   "source": [
    "%%time\n",
    "\n",
    "N = 32\n",
    "A = np.zeros([N,N,N])\n",
    "for i in range(N):\n",
    "    for j in range(N):\n",
    "        for k in range(N):\n",
    "            A[i,j,k] = np.sin(i+2.*j+3.*k)\n",
    "            \n",
    "g = TT_SVD(A, [4, 4])\n",
    "B = Restore_tensor(g)\n",
    "\n",
    "err = np.linalg.norm(A - B)\n",
    "print(\"error = \", err)"
   ]
  },
  {
   "cell_type": "markdown",
   "id": "f6064388",
   "metadata": {},
   "source": [
    "# ALS"
   ]
  },
  {
   "cell_type": "code",
   "execution_count": 266,
   "id": "f5ab0281",
   "metadata": {},
   "outputs": [],
   "source": [
    "def ALS(A, T, dimensions, rank):\n",
    "    d = len(dimensions)\n",
    "    for i in range(10000):\n",
    "        for j in range(0, d):\n",
    "            B = np.full((1, rank), fill_value=1)\n",
    "            C = np.full((rank, rank), fill_value=1)\n",
    "            for k in range(0, d):\n",
    "                if (k != j):\n",
    "                    C = np.multiply(C, A[k].T @ A[k])\n",
    "                    B = linalg.khatri_rao(B, A[k])\n",
    "            Y = B.T @ np.moveaxis(T, j, 0).reshape(T.shape[j], -1).T\n",
    "            A[j] = (linalg.pinv(C) @ Y).T\n",
    "    res = np.einsum('ir,jr,kr,wr', *A)\n",
    "    err = np.linalg.norm(res - T) / np.linalg.norm(T)\n",
    "    print(err)\n",
    "    return A, err"
   ]
  },
  {
   "cell_type": "code",
   "execution_count": 267,
   "id": "665a9c4f",
   "metadata": {},
   "outputs": [
    {
     "name": "stdout",
     "output_type": "stream",
     "text": [
      "0.03315319015555635\n",
      "0.0236105164344558\n",
      "2.1584386748628728e-14\n",
      "0.00010190671076600212\n",
      "6.069735406989148e-06\n"
     ]
    }
   ],
   "source": [
    "N = 10\n",
    "dim = (N, N, N, N)\n",
    "rank = (1, 2, 4, 8, 16)\n",
    "tensor = np.zeros([N,N,N,N])\n",
    "for i in range(N):\n",
    "    for j in range(N):\n",
    "        for k in range(N):\n",
    "            for q in range(N):\n",
    "                tensor[i,j,k, q] = np.sin(i+2*j+3*k) + 4*q\n",
    "for j in rank:\n",
    "    A = [np.random.normal(size=(i, j)) for i in dim]\n",
    "    A, err = ALS(A, tensor, dim, j)"
   ]
  }
 ],
 "metadata": {
  "kernelspec": {
   "display_name": "Python 3",
   "language": "python",
   "name": "python3"
  },
  "language_info": {
   "codemirror_mode": {
    "name": "ipython",
    "version": 3
   },
   "file_extension": ".py",
   "mimetype": "text/x-python",
   "name": "python",
   "nbconvert_exporter": "python",
   "pygments_lexer": "ipython3",
   "version": "3.8.8"
  }
 },
 "nbformat": 4,
 "nbformat_minor": 5
}
