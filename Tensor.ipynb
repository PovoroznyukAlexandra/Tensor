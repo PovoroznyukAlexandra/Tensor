{
 "cells": [
  {
   "cell_type": "code",
   "execution_count": 310,
   "id": "7c20327c",
   "metadata": {},
   "outputs": [],
   "source": [
    "import numpy as np\n",
    "import time\n",
    "from scipy import linalg\n",
    "import einops"
   ]
  },
  {
   "cell_type": "markdown",
   "id": "bd05f818",
   "metadata": {},
   "source": [
    "# Maxvol"
   ]
  },
  {
   "cell_type": "code",
   "execution_count": 271,
   "id": "7813546b",
   "metadata": {},
   "outputs": [],
   "source": [
    "def Maxvol(A, eps = 1.06, iter=10):\n",
    "    n, r = A.shape\n",
    "    for _ in range(iter):\n",
    "        i = A.shape[1]\n",
    "        C = A[:i, :]\n",
    "        B = A @ np.linalg.inv(C)\n",
    "        index = np.unravel_index(np.argmax(B), B.shape)\n",
    "        if np.round(np.abs(B[index]), 10) == 1:\n",
    "            return C\n",
    "        if np.round(np.abs(B[index]), 10) > 1:\n",
    "            A[index, :] = A[[index[1], index[0]], :]\n",
    "    return C"
   ]
  },
  {
   "cell_type": "code",
   "execution_count": 272,
   "id": "2eea6fb7",
   "metadata": {},
   "outputs": [
    {
     "data": {
      "text/plain": [
       "array([[ 1.        ,  0.54030231, -0.41614684],\n",
       "       [-0.41614684,  0.54030231,  1.        ],\n",
       "       [-0.65364362, -0.9899925 , -0.41614684]])"
      ]
     },
     "execution_count": 272,
     "metadata": {},
     "output_type": "execute_result"
    }
   ],
   "source": [
    "r = 3\n",
    "n = 10\n",
    "A = np.zeros([n, r])\n",
    "for i in range(n):\n",
    "    for j in range(r):\n",
    "        A[i,j]= np.cos(2*i - j)\n",
    "Maxvol(A)"
   ]
  },
  {
   "cell_type": "markdown",
   "id": "45512783",
   "metadata": {},
   "source": [
    "# Cross"
   ]
  },
  {
   "cell_type": "code",
   "execution_count": 273,
   "id": "36d920b5",
   "metadata": {},
   "outputs": [],
   "source": [
    "def Cross(A, eps = 0.1):\n",
    "    r = 0\n",
    "    m, n = A.shape\n",
    "    I = np.arange(m)\n",
    "    J = np.arange(n)\n",
    "    i,j = np.unravel_index(np.argmax(np.abs(A), axis=None), A.shape)\n",
    "    V = np.copy(A[:, j] / A[i, j]).reshape(m, 1)\n",
    "    U = np.copy(A[i, :]).reshape(1, n)\n",
    "    Error = A - V @ U\n",
    "    I[i] = -1\n",
    "    J[j] = -1\n",
    "    i = 0\n",
    "    j = 0\n",
    "    while True:\n",
    "        r += 1\n",
    "        for k in range(n):\n",
    "            if (abs(Error[k,j]) > abs(Error[i,j])) and (I[k] != -1):\n",
    "                i = k\n",
    "            if (abs(Error[i,k]) > abs(Error[i,j])) and (J[k] != -1):\n",
    "                j = k\n",
    "        if ((abs(Error[i][j]) *((m-r)*(n-r))**0.5) <= eps*(np.linalg.norm(V @ U, ord='fro'))):\n",
    "            r -= 1\n",
    "            return V, U\n",
    "        U = np.concatenate((U, Error[i, :].reshape(1, n)), axis = 0)\n",
    "        V = np.concatenate((V, (Error[:, j] / Error[i,j]).reshape(m, 1)), axis = 1)\n",
    "        I[i] = -1\n",
    "        J[j] = -1\n",
    "        Error = A - V @ U"
   ]
  },
  {
   "cell_type": "code",
   "execution_count": 274,
   "id": "0a02e97f",
   "metadata": {},
   "outputs": [],
   "source": [
    "n = 16\n",
    "m = 64\n",
    "A = np.zeros([m, n])\n",
    "for i in range(m):\n",
    "    for j in range(n):\n",
    "        A[i,j] = i*2 - j"
   ]
  },
  {
   "cell_type": "code",
   "execution_count": 275,
   "id": "5aaec5c6",
   "metadata": {},
   "outputs": [
    {
     "data": {
      "text/plain": [
       "1.3916028932457436e-13"
      ]
     },
     "execution_count": 275,
     "metadata": {},
     "output_type": "execute_result"
    }
   ],
   "source": [
    "U, V = Cross(A, 0.01)\n",
    "np.linalg.norm((A - U @ V), ord = 'fro')"
   ]
  },
  {
   "cell_type": "markdown",
   "id": "0c8c6fc7",
   "metadata": {},
   "source": [
    "# Randomized SVD"
   ]
  },
  {
   "cell_type": "code",
   "execution_count": 276,
   "id": "3b7a31e0",
   "metadata": {},
   "outputs": [],
   "source": [
    "def Randomized_SVD(A, r, p = 8):\n",
    "    M, N = A.shape\n",
    "    B = A @ (np.random.normal(size = (N, r + p)))\n",
    "    Q, R = np.linalg.qr(B)\n",
    "    U, s, V = np.linalg.svd(Q.T @ A);\n",
    "    return (Q @ U, s, V)\n",
    "\n",
    "def A(i, j):\n",
    "    return i * j\n",
    "\n",
    "M = 1024\n",
    "N = 2048\n",
    "r = 4\n",
    "U, E, V = Randomized_SVD(np.fromfunction(A, (M, N)), r)"
   ]
  },
  {
   "cell_type": "code",
   "execution_count": 277,
   "id": "d9b203b0",
   "metadata": {},
   "outputs": [
    {
     "data": {
      "text/plain": [
       "array([[-1.46804713e-16, -1.81858849e-01,  1.40127702e-01, ...,\n",
       "        -1.56839635e-01,  4.99615663e-03,  5.16090553e-02],\n",
       "       [-5.28967401e-05, -5.91802845e-04, -1.56869535e-04, ...,\n",
       "        -4.66184195e-03, -2.54791517e-03,  1.99128955e-04],\n",
       "       [-1.05793480e-04, -7.28668621e-04,  2.74594329e-04, ...,\n",
       "        -2.13631588e-02, -1.14057001e-02, -1.07482306e-04],\n",
       "       ...,\n",
       "       [-5.40075717e-02,  2.99117000e-02, -1.02843795e-01, ...,\n",
       "         1.22837998e-03, -2.73999607e-02,  3.07905296e-02],\n",
       "       [-5.40604684e-02,  1.14609608e-02, -1.09061374e-01, ...,\n",
       "         3.19634501e-02, -4.24773281e-03, -5.68777471e-02],\n",
       "       [-5.41133652e-02, -4.78327723e-02,  7.55789331e-02, ...,\n",
       "         3.91940322e-03,  5.20725717e-03, -3.00138221e-02]])"
      ]
     },
     "execution_count": 277,
     "metadata": {},
     "output_type": "execute_result"
    }
   ],
   "source": [
    "U"
   ]
  },
  {
   "cell_type": "code",
   "execution_count": 278,
   "id": "0bca9f0f",
   "metadata": {},
   "outputs": [
    {
     "data": {
      "text/plain": [
       "array([1.01122155e+09, 3.31024238e-08, 1.87406879e-08, 1.54153519e-08,\n",
       "       1.47330698e-08, 1.31566642e-08, 1.26255367e-08, 1.25478473e-08,\n",
       "       1.21735563e-08, 1.15367917e-08, 1.07875892e-08, 9.25024691e-09])"
      ]
     },
     "execution_count": 278,
     "metadata": {},
     "output_type": "execute_result"
    }
   ],
   "source": [
    "E"
   ]
  },
  {
   "cell_type": "code",
   "execution_count": 279,
   "id": "7cf91d9f",
   "metadata": {},
   "outputs": [
    {
     "data": {
      "text/plain": [
       "array([[ 0.00000000e+00, -1.86949701e-05, -3.73899402e-05, ...,\n",
       "        -3.82312138e-02, -3.82499088e-02, -3.82686038e-02],\n",
       "       [ 8.19636100e-16,  2.07320970e-05,  4.14641940e-05, ...,\n",
       "        -2.37832304e-02,  1.25542641e-02, -7.19353659e-02],\n",
       "       [-5.63931207e-16, -3.21456329e-05, -6.42912658e-05, ...,\n",
       "        -1.94030926e-02,  5.62482314e-02,  1.83871144e-02],\n",
       "       ...,\n",
       "       [-3.82568481e-02,  8.30936634e-03, -8.01367858e-03, ...,\n",
       "         9.86536077e-01,  2.08228815e-03, -3.62843995e-03],\n",
       "       [-3.82607192e-02,  1.61451802e-02, -2.22342007e-03, ...,\n",
       "         2.07921724e-03,  9.84831321e-01, -1.23677844e-03],\n",
       "       [-3.82639374e-02,  6.58251888e-02, -1.61893886e-02, ...,\n",
       "        -3.62590370e-03, -1.23673121e-03,  9.82024966e-01]])"
      ]
     },
     "execution_count": 279,
     "metadata": {},
     "output_type": "execute_result"
    }
   ],
   "source": [
    "V"
   ]
  },
  {
   "cell_type": "markdown",
   "id": "8437c68b",
   "metadata": {},
   "source": [
    "# HO_SVD"
   ]
  },
  {
   "cell_type": "markdown",
   "id": "86f33634",
   "metadata": {},
   "source": [
    "### 3-мерный HO_SVD"
   ]
  },
  {
   "cell_type": "code",
   "execution_count": 280,
   "id": "a26c12ae",
   "metadata": {},
   "outputs": [],
   "source": [
    "def HO_SVD_3d(A, r1, r2, r3):\n",
    "    n1,n2,n3 = A.shape\n",
    "    A1 = A.reshape(n1, n2*n3)\n",
    "    U, s, V = np.linalg.svd(A1, full_matrices=False)\n",
    "    V1 = U[:,:r1] \n",
    "    V1 = V1.T\n",
    "    A1 = np.diag(s[:r1]) @ V[:r1,:] # r1 x n2*n3\n",
    "    A1 = A1.reshape(r1, n2, n3)\n",
    "    A1 = A1.transpose([0,2,1])\n",
    "    A1 = A1.reshape(r1 * n3, n2)# r1 * n3 x n2\n",
    "    U, s, V = np.linalg.svd(A1, full_matrices=False)\n",
    "    V2 =  V[:r2,:] # r2 x n2\n",
    "    U2 = U[:,:r2] @ np.diag(s[:r2]) # r1*n3 x r2\n",
    "    U2 = U2.reshape(r1, n3, r2) # r1 x n3 x r2\n",
    "    U2 = U2.transpose([0,2,1]) # r1 x r2 x n3\n",
    "    U2 = U2.reshape(r1 * r2, n3) # r1*r2 x n3\n",
    "    U, s, V = np.linalg.svd(U2, full_matrices=False)\n",
    "    V3 = V[:r3,:] # U3(r3,j)\n",
    "    G = U[:,:r3] @ np.diag(s[:r3])# r1 * r2 x r3\n",
    "    G = G.reshape(r1, r2, r3) # main core\n",
    "    return G, V1, V2, V3\n",
    "\n",
    "def Check(A, G, V1, V2, V3): \n",
    "    err = 0\n",
    "    r1, r2, r3 = G.shape\n",
    "    A1 = G.reshape(r1 * r2, r3).dot(V3) # r1*r2 x n3\n",
    "    A1 = A1.reshape(r1, r2, V3.shape[1]).transpose([0,2,1]) # r1 x r2 x n3\n",
    "    A1 = A1.reshape(r1*V3.shape[1], r2).dot(V2) # r1*n3 x n2\n",
    "    A1 = A1.reshape(r1, V3.shape[1], V2.shape[1]).transpose([1,2,0]) # n3 x n2 x r1\n",
    "    A1 = A1.reshape(V3.shape[1], V2.shape[1], r1).dot(V1) # n3 x n2 x n1\n",
    "    A1 = A1.transpose([2,1,0]) # n1 x n2 x n3\n",
    "    return np.linalg.norm(A - A1) #error norm"
   ]
  },
  {
   "cell_type": "code",
   "execution_count": 281,
   "id": "3e604e2d",
   "metadata": {
    "scrolled": true
   },
   "outputs": [
    {
     "name": "stdout",
     "output_type": "stream",
     "text": [
      "Error = 1.9423889953547366e-12\n",
      "CPU times: user 418 ms, sys: 39.6 ms, total: 458 ms\n",
      "Wall time: 372 ms\n"
     ]
    }
   ],
   "source": [
    "%%time\n",
    "\n",
    "N = 64\n",
    "A = np.zeros([N,N,N])\n",
    "for i in range(N):\n",
    "    for j in range(N):\n",
    "        for k in range(N):\n",
    "            A[i,j,k] = np.sin(i+2.*j+3.*k)\n",
    "G, V1, V2, V3 = HO_SVD_3d(A,4,4,4)\n",
    "print(\"Error =\", Check(A, G, V1,V2,V3))"
   ]
  },
  {
   "cell_type": "markdown",
   "id": "bc3f37d8",
   "metadata": {},
   "source": [
    "# st_HO_SVD"
   ]
  },
  {
   "cell_type": "code",
   "execution_count": 303,
   "id": "5e54f196",
   "metadata": {},
   "outputs": [],
   "source": [
    "def st_HO_SVD(A: np.ndarray, eps: float = 1e-2):\n",
    "    U = []\n",
    "    G = A.copy()\n",
    "    shape = list(A.shape)\n",
    "    for k in range(A.ndim):\n",
    "        Ak = np.moveaxis(G, k, 0).reshape(shape[k], -1)\n",
    "        u, s, v = np.linalg.svd(Ak, full_matrices=False)\n",
    "        r = s.size - np.argwhere(np.cumsum(s[::-1] ** 2) / s[0] > eps)[0][0]\n",
    "        shape[k] = r\n",
    "\n",
    "        U.append(u[:, :r])\n",
    "        G = np.diag(s[:r]) @ v[:r, :]\n",
    "        G = G.reshape(r, *[shape[i] for i in range(len(shape)) if i != k])\n",
    "    return G.T, U"
   ]
  },
  {
   "cell_type": "code",
   "execution_count": 304,
   "id": "2f0d0575",
   "metadata": {
    "scrolled": true
   },
   "outputs": [
    {
     "data": {
      "text/plain": [
       "(array([[[-1.42253953e+01, -8.28025332e-03],\n",
       "         [-4.61793060e-03,  1.11585148e+00]],\n",
       " \n",
       "        [[-1.60125603e-02,  2.38589095e-01],\n",
       "         [ 5.43770692e-01, -2.00114739e-01]]]),\n",
       " array([[-0.37616823,  0.92655138],\n",
       "        [-0.92655138, -0.37616823]]),\n",
       " array([[ 0.56672424, -0.82390754],\n",
       "        [ 0.82390754,  0.56672424]]),\n",
       " array([[ 0.64142303, -0.7671874 ],\n",
       "        [ 0.7671874 ,  0.64142303]]))"
      ]
     },
     "execution_count": 304,
     "metadata": {},
     "output_type": "execute_result"
    }
   ],
   "source": [
    "A = np.array([[[1, 2], [3, 4]], [[5, 6], [7, 8]]])\n",
    "st_hosvd(A)"
   ]
  },
  {
   "cell_type": "code",
   "execution_count": 305,
   "id": "6cdc6305",
   "metadata": {},
   "outputs": [],
   "source": [
    "def Tensor_from_Tucker(G: np.ndarray, U: list):\n",
    "    fold_part = \"\"\n",
    "    common_part = \"\"\n",
    "    for i in range(G.ndim):\n",
    "        if i > 0:\n",
    "            fold_part += \",\"\n",
    "        fold_part += chr(97 + i) + chr(65 + i)\n",
    "        common_part += chr(65 + i)\n",
    "\n",
    "    return np.einsum(common_part + \",\" + fold_part, G, *U)\n",
    "\n",
    "def squeeze(G: np.ndarray, U: list, eps: float = 1e-15):\n",
    "    Rs = []\n",
    "    for i in range(G.ndim):\n",
    "        Q, R = np.linalg.qr(U[i])\n",
    "        Rs.append(R)\n",
    "        U[i] = Q\n",
    "    G, Un = st_HO_SVD(Tensor_from_Tucker(G, Rs), eps)\n",
    "    for i in range(G.ndim):\n",
    "        Rs[i] = U[i] @ Un[i]\n",
    "\n",
    "    return G, Rs"
   ]
  },
  {
   "cell_type": "code",
   "execution_count": 306,
   "id": "44380816",
   "metadata": {},
   "outputs": [
    {
     "data": {
      "text/plain": [
       "(array([[[[-3.55509865],\n",
       "          [-1.22252192]],\n",
       " \n",
       "         [[-1.24529779],\n",
       "          [ 2.60491672]],\n",
       " \n",
       "         [[ 0.14121908],\n",
       "          [-0.1577141 ]]],\n",
       " \n",
       " \n",
       "        [[[ 1.62448986],\n",
       "          [-0.46037123]],\n",
       " \n",
       "         [[-0.22713869],\n",
       "          [ 1.89760818]],\n",
       " \n",
       "         [[ 0.28773942],\n",
       "          [ 0.34361607]]]]),\n",
       " [array([[-0.62982797, -0.77673465],\n",
       "         [-0.77673465,  0.62982797]]),\n",
       "  array([[-0.61526264, -0.08084034, -0.78416626],\n",
       "         [-0.64534466,  0.62294301,  0.44212248],\n",
       "         [-0.45274956, -0.77807895,  0.43544344]]),\n",
       "  array([[-0.99984838, -0.01741326],\n",
       "         [-0.01741326,  0.99984838]]),\n",
       "  array([[1.]])])"
      ]
     },
     "execution_count": 306,
     "metadata": {},
     "output_type": "execute_result"
    }
   ],
   "source": [
    "G, U = st_HO_SVD(Tensor, eps=1e-13)\n",
    "squeeze(G, U)"
   ]
  },
  {
   "cell_type": "markdown",
   "id": "9ff58171",
   "metadata": {},
   "source": [
    "# TT_SVD"
   ]
  },
  {
   "cell_type": "code",
   "execution_count": 312,
   "id": "5287e55a",
   "metadata": {},
   "outputs": [],
   "source": [
    "def TT_SVD(A, ranks):\n",
    "    g = []\n",
    "    n = list(A.shape)\n",
    "    dim = len(n)\n",
    "\n",
    "    A1 = A.reshape(n[0], np.prod(n[1:]))\n",
    "    U, s, V = np.linalg.svd(A1, full_matrices=False)\n",
    "    G1 = U[:,:ranks[0]]\n",
    "    g.append(G1)\n",
    "    B = np.diag(s[:ranks[0]]) @ V[:ranks[0], :]\n",
    "    for k in range (1, dim - 1):\n",
    "        B = B.reshape(ranks[k - 1] * n[k], np.prod(n[k+1:]))\n",
    "        U, s, V = np.linalg.svd(B, full_matrices=False)\n",
    "        Gk = U[:,:ranks[k]]\n",
    "        Gk = Gk.reshape(ranks[k - 1], n[k], ranks[k])\n",
    "        g.append(Gk)\n",
    "        B = np.diag(s[:ranks[k]]) @ V[:ranks[k],:]\n",
    "    g.append(B)\n",
    "    return g\n",
    "\n",
    "def Restore_tensor(g):\n",
    "    n = [g[i].shape[1] for i in range(len(g))]\n",
    "    n[0] = g[0].shape[0]\n",
    "    dim = len(n)\n",
    "    \n",
    "    res = g[-1]\n",
    "    for i in range(dim - 2, 0, -1):\n",
    "        res = (g[i] @ res).reshape(g[i].shape[0], np.prod(n[i:dim]))    \n",
    "    res = g[0] @ res\n",
    "    res = res.reshape(n)\n",
    "    return res"
   ]
  },
  {
   "cell_type": "code",
   "execution_count": 318,
   "id": "834094ec",
   "metadata": {
    "scrolled": true
   },
   "outputs": [
    {
     "name": "stdout",
     "output_type": "stream",
     "text": [
      "error =  8.901142497836701e-13\n",
      "CPU times: user 94.7 ms, sys: 15.3 ms, total: 110 ms\n",
      "Wall time: 81.5 ms\n"
     ]
    }
   ],
   "source": [
    "%%time\n",
    "\n",
    "N = 32\n",
    "A = np.zeros([N,N,N])\n",
    "for i in range(N):\n",
    "    for j in range(N):\n",
    "        for k in range(N):\n",
    "            A[i,j,k] = np.sin(i+2.*j+3.*k)\n",
    "            \n",
    "g = TT_SVD(A, [4, 4])\n",
    "B = Restore_tensor(g)\n",
    "\n",
    "err = np.linalg.norm(A - B)\n",
    "print(\"error = \", err)"
   ]
  },
  {
   "cell_type": "code",
   "execution_count": 330,
   "id": "52c41bb3",
   "metadata": {},
   "outputs": [],
   "source": [
    "def TT_squeeze(G, eps=1e-15):\n",
    "    G[0], R = np.linalg.qr(G[0])\n",
    "\n",
    "    for i in range(1, len(G) - 1):\n",
    "        G[i] = np.einsum(\"mk,krt->mrt\", R, G[i])\n",
    "        Q, R = np.linalg.qr(G[i].reshape(-1, G[i].shape[2]))\n",
    "        G[i] = Q.reshape(G[i].shape[0], G[i].shape[1], -1)\n",
    "    G[-1] = np.einsum(\"mk,kr->mr\", R, G[-1])\n",
    "    U, S, G[-1] = np.linalg.svd(G[-1])\n",
    "    rank = S.size - np.argmax(np.cumsum(S[::-1] ** 2) / S[0] > eps)\n",
    "    G[-1] = G[-1][:rank, :]\n",
    "    U = U[:, :rank] * S[np.newaxis, :rank]\n",
    "    for i in range(len(G) - 2, 0, -1):\n",
    "        G[i] = np.einsum(\"mrt,tk->mrk\", G[i], U)\n",
    "        n = G[i].shape[1]\n",
    "        rank_tmp = G[i].shape[2]\n",
    "        G[i] = np.reshape(G[i], (-1, n * rank))\n",
    "        U, S, G[i] = np.linalg.svd(G[i])\n",
    "        rank = S.size - np.argmax(np.cumsum(S[::-1] ** 2) / S[0] > eps)\n",
    "        G[i] = G[i][:rank, :]\n",
    "        G[i] = np.reshape(G[i], (-1, n, rank_tmp))\n",
    "        U = U[:, :rank] * S[np.newaxis, :rank]\n",
    "    G[0] = G[0] @ U\n",
    "    return G"
   ]
  },
  {
   "cell_type": "code",
   "execution_count": 333,
   "id": "3b94e48e",
   "metadata": {},
   "outputs": [
    {
     "data": {
      "text/plain": [
       "[array([[-21.75679277,   6.35293037],\n",
       "        [ -6.31769959,  21.64651922],\n",
       "        [ 14.92985746,  17.03839812],\n",
       "        [ 22.45097241,  -3.23474763],\n",
       "        [  9.33076687, -20.53388133],\n",
       "        [-12.3681027 , -18.95425923],\n",
       "        [-22.69579569,   0.05182139],\n",
       "        [-12.15707879,  19.01025767],\n",
       "        [  9.55880029,  20.49075071],\n",
       "        [ 22.48636246,   3.13214205],\n",
       "        [ 14.74006669, -17.10614357],\n",
       "        [ -6.55817842, -21.61711968],\n",
       "        [-21.82686453,  -6.25341565],\n",
       "        [-17.02803206,  14.85964989],\n",
       "        [  3.42629457,  22.31082185],\n",
       "        [ 20.73050176,   9.24952709],\n",
       "        [ 18.97518124, -12.31574021],\n",
       "        [ -0.2258334 , -22.55797277],\n",
       "        [-19.21921786, -12.06050919],\n",
       "        [-20.54254205,   9.52533092],\n",
       "        [ -2.97914782,  22.35362571],\n",
       "        [ 17.32326118,  14.63010011],\n",
       "        [ 21.69874374,  -6.54427206],\n",
       "        [  6.12450137, -21.70187068],\n",
       "        [-15.08057931, -16.90686948],\n",
       "        [-22.42064493,   3.43222955],\n",
       "        [ -9.14727299,  20.61575256],\n",
       "        [ 12.53605954,  18.84524774],\n",
       "        [ 22.69379675,  -0.25149094],\n",
       "        [ 11.98696188, -19.11701001],\n",
       "        [ -9.74063046, -20.40643824],\n",
       "        [-22.51273208,  -2.93428126]]),\n",
       " array([[[-0.15355984,  0.09560895],\n",
       "         [ 0.17243465,  0.07215181],\n",
       "         [ 0.01004357, -0.15566045],\n",
       "         [-0.18079385,  0.0574034 ],\n",
       "         [ 0.14043001,  0.10788397],\n",
       "         [ 0.06391485, -0.14719454],\n",
       "         [-0.19362593,  0.01462512],\n",
       "         [ 0.09723879,  0.13502215],\n",
       "         [ 0.1126947 , -0.12700319],\n",
       "         [-0.19103388, -0.02931819],\n",
       "         [ 0.04630159,  0.15140454],\n",
       "         [ 0.15249736, -0.09669485],\n",
       "         [-0.17322417, -0.07092603],\n",
       "         [-0.00832398,  0.15572613],\n",
       "         [ 0.18015216, -0.05868385],\n",
       "         [-0.14161553, -0.10688394],\n",
       "         [-0.06228645,  0.14764267],\n",
       "         [ 0.19345615, -0.01599812],\n",
       "         [-0.09872588, -0.13432754],\n",
       "         [-0.11128723,  0.12779808],\n",
       "         [ 0.19134954,  0.027962  ],\n",
       "         [-0.04797178, -0.15107068],\n",
       "         [-0.15142293,  0.09777317],\n",
       "         [ 0.17400012,  0.06969469],\n",
       "         [ 0.00660373, -0.15577962],\n",
       "         [-0.17949636,  0.0599597 ],\n",
       "         [ 0.14278996,  0.10587554],\n",
       "         [ 0.06065318, -0.14807924],\n",
       "         [-0.19327122,  0.01736988],\n",
       "         [ 0.10020523,  0.1336224 ],\n",
       "         [ 0.10987104, -0.12858296],\n",
       "         [-0.1916502 , -0.02660362]],\n",
       " \n",
       "        [[-0.1195863 , -0.12416618],\n",
       "         [-0.09106988,  0.13877491],\n",
       "         [ 0.19538319,  0.0086647 ],\n",
       "         [-0.07154631, -0.14598648],\n",
       "         [-0.13583565,  0.11283893],\n",
       "         [ 0.18460146,  0.05207136],\n",
       "         [-0.01780698, -0.15617759],\n",
       "         [-0.16978082,  0.07791426],\n",
       "         [ 0.15911449,  0.09133004],\n",
       "         [ 0.03735084, -0.15392767],\n",
       "         [-0.19020136,  0.03678299],\n",
       "         [ 0.12095254,  0.12331343],\n",
       "         [ 0.08953332, -0.13941597],\n",
       "         [-0.19547056, -0.00727839],\n",
       "         [ 0.07315559,  0.14547373],\n",
       "         [ 0.13458363, -0.11379848],\n",
       "         [-0.18516869, -0.05075998],\n",
       "         [ 0.0195311 ,  0.15604569],\n",
       "         [ 0.16891307, -0.07911586],\n",
       "         [-0.16011639, -0.09019806],\n",
       "         [-0.03564922,  0.15418713],\n",
       "         [ 0.18978701, -0.03813091],\n",
       "         [-0.1223093 , -0.12245101],\n",
       "         [-0.08798975,  0.14004612],\n",
       "         [ 0.19554261,  0.00589152],\n",
       "         [-0.07475913, -0.14494959],\n",
       "         [-0.13332106,  0.11474911],\n",
       "         [ 0.18572141,  0.04944463],\n",
       "         [-0.02125369, -0.15590156],\n",
       "         [-0.16803209,  0.08031125],\n",
       "         [ 0.16110574,  0.08905902],\n",
       "         [ 0.0339448 , -0.15443451]]]),\n",
       " array([[-0.18372106,  0.20058729, -0.21343876,  0.22201825, -0.22615405,\n",
       "          0.22576337, -0.22085403,  0.2115243 , -0.19796091,  0.18043534,\n",
       "         -0.15929834,  0.13497299, -0.10794616,  0.07875878, -0.04799504,\n",
       "          0.01627068,  0.01577933, -0.04751352,  0.07829673, -0.10751283,\n",
       "          0.13457706, -0.15894773,  0.18013706, -0.19772094,  0.21134744,\n",
       "         -0.22074381,  0.225722  , -0.22618236,  0.22211568, -0.21360336,\n",
       "          0.20081576, -0.18400883],\n",
       "        [-0.1652964 ,  0.13128267, -0.09464132,  0.05610573, -0.01644718,\n",
       "         -0.02354056,  0.06305714, -0.10131163,  0.13753836, -0.17101227,\n",
       "          0.20106336, -0.22709017,  0.24857176, -0.26507819,  0.27627908,\n",
       "         -0.28195024,  0.28197817, -0.2763623 ,  0.26521504, -0.24875949,\n",
       "          0.22732502, -0.20134065,  0.17132643, -0.13788312,  0.10168008,\n",
       "         -0.0634419 ,  0.02393394,  0.01605306, -0.05571876,  0.09426924,\n",
       "         -0.13093293,  0.16497599]])]"
      ]
     },
     "execution_count": 333,
     "metadata": {},
     "output_type": "execute_result"
    }
   ],
   "source": [
    "N = 32\n",
    "A = np.zeros([N,N,N])\n",
    "for i in range(N):\n",
    "    for j in range(N):\n",
    "        for k in range(N):\n",
    "            A[i,j,k] = np.sin(i+2.*j+3.*k)\n",
    "TT_squeeze(TT_SVD(A, [10, 10, 10]))"
   ]
  },
  {
   "cell_type": "markdown",
   "id": "0d0474ab",
   "metadata": {},
   "source": [
    "# ALS"
   ]
  },
  {
   "cell_type": "code",
   "execution_count": 266,
   "id": "2d23a54a",
   "metadata": {},
   "outputs": [],
   "source": [
    "def ALS(A, T, dimensions, rank):\n",
    "    d = len(dimensions)\n",
    "    for i in range(10000):\n",
    "        for j in range(0, d):\n",
    "            B = np.full((1, rank), fill_value=1)\n",
    "            C = np.full((rank, rank), fill_value=1)\n",
    "            for k in range(0, d):\n",
    "                if (k != j):\n",
    "                    C = np.multiply(C, A[k].T @ A[k])\n",
    "                    B = linalg.khatri_rao(B, A[k])\n",
    "            Y = B.T @ np.moveaxis(T, j, 0).reshape(T.shape[j], -1).T\n",
    "            A[j] = (linalg.pinv(C) @ Y).T\n",
    "    res = np.einsum('ir,jr,kr,wr', *A)\n",
    "    err = np.linalg.norm(res - T) / np.linalg.norm(T)\n",
    "    print(err)\n",
    "    return A, err"
   ]
  },
  {
   "cell_type": "code",
   "execution_count": 267,
   "id": "5394cd27",
   "metadata": {},
   "outputs": [
    {
     "name": "stdout",
     "output_type": "stream",
     "text": [
      "0.03315319015555635\n",
      "0.0236105164344558\n",
      "2.1584386748628728e-14\n",
      "0.00010190671076600212\n",
      "6.069735406989148e-06\n"
     ]
    }
   ],
   "source": [
    "N = 10\n",
    "dim = (N, N, N, N)\n",
    "rank = (1, 2, 4, 8, 16)\n",
    "tensor = np.zeros([N,N,N,N])\n",
    "for i in range(N):\n",
    "    for j in range(N):\n",
    "        for k in range(N):\n",
    "            for q in range(N):\n",
    "                tensor[i,j,k, q] = np.sin(i+2*j+3*k) + 4*q\n",
    "for j in rank:\n",
    "    A = [np.random.normal(size=(i, j)) for i in dim]\n",
    "    A, err = ALS(A, tensor, dim, j)"
   ]
  }
 ],
 "metadata": {
  "kernelspec": {
   "display_name": "Python 3",
   "language": "python",
   "name": "python3"
  },
  "language_info": {
   "codemirror_mode": {
    "name": "ipython",
    "version": 3
   },
   "file_extension": ".py",
   "mimetype": "text/x-python",
   "name": "python",
   "nbconvert_exporter": "python",
   "pygments_lexer": "ipython3",
   "version": "3.8.8"
  }
 },
 "nbformat": 4,
 "nbformat_minor": 5
}
